{
 "cells": [
  {
   "cell_type": "markdown",
   "id": "58a5f096-51ad-41bf-8001-bb55dd7fe0f8",
   "metadata": {},
   "source": [
    "# Data Analysis Intern at Cognifyz Technologies"
   ]
  },
  {
   "cell_type": "markdown",
   "id": "185e0413-5e70-4ec9-9e7d-4e55c030dcb2",
   "metadata": {},
   "source": [
    "# Level 1"
   ]
  },
  {
   "cell_type": "markdown",
   "id": "a6402cc0-fcf1-446b-a0c9-19a382a7c081",
   "metadata": {},
   "source": [
    "## Task 1 : Task: Top Cuisines\n"
   ]
  },
  {
   "cell_type": "markdown",
   "id": "0b65206a-0d85-429a-819d-ee43a7703117",
   "metadata": {},
   "source": [
    "### Determine the top three most common cuisines in the dataset."
   ]
  },
  {
   "cell_type": "code",
   "execution_count": 5,
   "id": "86f7472a-e646-4bd0-b27e-2dc5fea1c2b9",
   "metadata": {},
   "outputs": [
    {
     "data": {
      "text/html": [
       "<div>\n",
       "<style scoped>\n",
       "    .dataframe tbody tr th:only-of-type {\n",
       "        vertical-align: middle;\n",
       "    }\n",
       "\n",
       "    .dataframe tbody tr th {\n",
       "        vertical-align: top;\n",
       "    }\n",
       "\n",
       "    .dataframe thead th {\n",
       "        text-align: right;\n",
       "    }\n",
       "</style>\n",
       "<table border=\"1\" class=\"dataframe\">\n",
       "  <thead>\n",
       "    <tr style=\"text-align: right;\">\n",
       "      <th></th>\n",
       "      <th>Restaurant ID</th>\n",
       "      <th>Restaurant Name</th>\n",
       "      <th>Country Code</th>\n",
       "      <th>City</th>\n",
       "      <th>Address</th>\n",
       "      <th>Locality</th>\n",
       "      <th>Locality Verbose</th>\n",
       "      <th>Longitude</th>\n",
       "      <th>Latitude</th>\n",
       "      <th>Cuisines</th>\n",
       "      <th>...</th>\n",
       "      <th>Currency</th>\n",
       "      <th>Has Table booking</th>\n",
       "      <th>Has Online delivery</th>\n",
       "      <th>Is delivering now</th>\n",
       "      <th>Switch to order menu</th>\n",
       "      <th>Price range</th>\n",
       "      <th>Aggregate rating</th>\n",
       "      <th>Rating color</th>\n",
       "      <th>Rating text</th>\n",
       "      <th>Votes</th>\n",
       "    </tr>\n",
       "  </thead>\n",
       "  <tbody>\n",
       "    <tr>\n",
       "      <th>0</th>\n",
       "      <td>6317637</td>\n",
       "      <td>Le Petit Souffle</td>\n",
       "      <td>162</td>\n",
       "      <td>Makati City</td>\n",
       "      <td>Third Floor, Century City Mall, Kalayaan Avenu...</td>\n",
       "      <td>Century City Mall, Poblacion, Makati City</td>\n",
       "      <td>Century City Mall, Poblacion, Makati City, Mak...</td>\n",
       "      <td>121.027535</td>\n",
       "      <td>14.565443</td>\n",
       "      <td>French, Japanese, Desserts</td>\n",
       "      <td>...</td>\n",
       "      <td>Botswana Pula(P)</td>\n",
       "      <td>Yes</td>\n",
       "      <td>No</td>\n",
       "      <td>No</td>\n",
       "      <td>No</td>\n",
       "      <td>3</td>\n",
       "      <td>4.8</td>\n",
       "      <td>Dark Green</td>\n",
       "      <td>Excellent</td>\n",
       "      <td>314</td>\n",
       "    </tr>\n",
       "    <tr>\n",
       "      <th>1</th>\n",
       "      <td>6304287</td>\n",
       "      <td>Izakaya Kikufuji</td>\n",
       "      <td>162</td>\n",
       "      <td>Makati City</td>\n",
       "      <td>Little Tokyo, 2277 Chino Roces Avenue, Legaspi...</td>\n",
       "      <td>Little Tokyo, Legaspi Village, Makati City</td>\n",
       "      <td>Little Tokyo, Legaspi Village, Makati City, Ma...</td>\n",
       "      <td>121.014101</td>\n",
       "      <td>14.553708</td>\n",
       "      <td>Japanese</td>\n",
       "      <td>...</td>\n",
       "      <td>Botswana Pula(P)</td>\n",
       "      <td>Yes</td>\n",
       "      <td>No</td>\n",
       "      <td>No</td>\n",
       "      <td>No</td>\n",
       "      <td>3</td>\n",
       "      <td>4.5</td>\n",
       "      <td>Dark Green</td>\n",
       "      <td>Excellent</td>\n",
       "      <td>591</td>\n",
       "    </tr>\n",
       "    <tr>\n",
       "      <th>2</th>\n",
       "      <td>6300002</td>\n",
       "      <td>Heat - Edsa Shangri-La</td>\n",
       "      <td>162</td>\n",
       "      <td>Mandaluyong City</td>\n",
       "      <td>Edsa Shangri-La, 1 Garden Way, Ortigas, Mandal...</td>\n",
       "      <td>Edsa Shangri-La, Ortigas, Mandaluyong City</td>\n",
       "      <td>Edsa Shangri-La, Ortigas, Mandaluyong City, Ma...</td>\n",
       "      <td>121.056831</td>\n",
       "      <td>14.581404</td>\n",
       "      <td>Seafood, Asian, Filipino, Indian</td>\n",
       "      <td>...</td>\n",
       "      <td>Botswana Pula(P)</td>\n",
       "      <td>Yes</td>\n",
       "      <td>No</td>\n",
       "      <td>No</td>\n",
       "      <td>No</td>\n",
       "      <td>4</td>\n",
       "      <td>4.4</td>\n",
       "      <td>Green</td>\n",
       "      <td>Very Good</td>\n",
       "      <td>270</td>\n",
       "    </tr>\n",
       "  </tbody>\n",
       "</table>\n",
       "<p>3 rows × 21 columns</p>\n",
       "</div>"
      ],
      "text/plain": [
       "   Restaurant ID         Restaurant Name  Country Code              City  \\\n",
       "0        6317637        Le Petit Souffle           162       Makati City   \n",
       "1        6304287        Izakaya Kikufuji           162       Makati City   \n",
       "2        6300002  Heat - Edsa Shangri-La           162  Mandaluyong City   \n",
       "\n",
       "                                             Address  \\\n",
       "0  Third Floor, Century City Mall, Kalayaan Avenu...   \n",
       "1  Little Tokyo, 2277 Chino Roces Avenue, Legaspi...   \n",
       "2  Edsa Shangri-La, 1 Garden Way, Ortigas, Mandal...   \n",
       "\n",
       "                                     Locality  \\\n",
       "0   Century City Mall, Poblacion, Makati City   \n",
       "1  Little Tokyo, Legaspi Village, Makati City   \n",
       "2  Edsa Shangri-La, Ortigas, Mandaluyong City   \n",
       "\n",
       "                                    Locality Verbose   Longitude   Latitude  \\\n",
       "0  Century City Mall, Poblacion, Makati City, Mak...  121.027535  14.565443   \n",
       "1  Little Tokyo, Legaspi Village, Makati City, Ma...  121.014101  14.553708   \n",
       "2  Edsa Shangri-La, Ortigas, Mandaluyong City, Ma...  121.056831  14.581404   \n",
       "\n",
       "                           Cuisines  ...          Currency Has Table booking  \\\n",
       "0        French, Japanese, Desserts  ...  Botswana Pula(P)               Yes   \n",
       "1                          Japanese  ...  Botswana Pula(P)               Yes   \n",
       "2  Seafood, Asian, Filipino, Indian  ...  Botswana Pula(P)               Yes   \n",
       "\n",
       "  Has Online delivery Is delivering now Switch to order menu Price range  \\\n",
       "0                  No                No                   No           3   \n",
       "1                  No                No                   No           3   \n",
       "2                  No                No                   No           4   \n",
       "\n",
       "   Aggregate rating  Rating color Rating text Votes  \n",
       "0               4.8    Dark Green   Excellent   314  \n",
       "1               4.5    Dark Green   Excellent   591  \n",
       "2               4.4         Green   Very Good   270  \n",
       "\n",
       "[3 rows x 21 columns]"
      ]
     },
     "execution_count": 5,
     "metadata": {},
     "output_type": "execute_result"
    }
   ],
   "source": [
    "import pandas as pd\n",
    "df = pd.read_csv(\"Dataset .csv\")\n",
    "df.head(3)"
   ]
  },
  {
   "cell_type": "code",
   "execution_count": 6,
   "id": "a7ea2a18-25a7-4557-9bda-e6924fc9bb8c",
   "metadata": {},
   "outputs": [
    {
     "data": {
      "text/plain": [
       "array(['French, Japanese, Desserts', 'Japanese',\n",
       "       'Seafood, Asian, Filipino, Indian', ..., 'Burger, Izgara',\n",
       "       'World Cuisine, Patisserie, Cafe', 'Italian, World Cuisine'],\n",
       "      shape=(1826,), dtype=object)"
      ]
     },
     "execution_count": 6,
     "metadata": {},
     "output_type": "execute_result"
    }
   ],
   "source": [
    "df[\"Cuisines\"].unique()"
   ]
  },
  {
   "cell_type": "code",
   "execution_count": 7,
   "id": "41f4a90a-d70e-4fe3-91de-7bf1b0302b92",
   "metadata": {},
   "outputs": [
    {
     "name": "stdout",
     "output_type": "stream",
     "text": [
      "<class 'pandas.core.frame.DataFrame'>\n",
      "RangeIndex: 9551 entries, 0 to 9550\n",
      "Data columns (total 21 columns):\n",
      " #   Column                Non-Null Count  Dtype  \n",
      "---  ------                --------------  -----  \n",
      " 0   Restaurant ID         9551 non-null   int64  \n",
      " 1   Restaurant Name       9551 non-null   object \n",
      " 2   Country Code          9551 non-null   int64  \n",
      " 3   City                  9551 non-null   object \n",
      " 4   Address               9551 non-null   object \n",
      " 5   Locality              9551 non-null   object \n",
      " 6   Locality Verbose      9551 non-null   object \n",
      " 7   Longitude             9551 non-null   float64\n",
      " 8   Latitude              9551 non-null   float64\n",
      " 9   Cuisines              9542 non-null   object \n",
      " 10  Average Cost for two  9551 non-null   int64  \n",
      " 11  Currency              9551 non-null   object \n",
      " 12  Has Table booking     9551 non-null   object \n",
      " 13  Has Online delivery   9551 non-null   object \n",
      " 14  Is delivering now     9551 non-null   object \n",
      " 15  Switch to order menu  9551 non-null   object \n",
      " 16  Price range           9551 non-null   int64  \n",
      " 17  Aggregate rating      9551 non-null   float64\n",
      " 18  Rating color          9551 non-null   object \n",
      " 19  Rating text           9551 non-null   object \n",
      " 20  Votes                 9551 non-null   int64  \n",
      "dtypes: float64(3), int64(5), object(13)\n",
      "memory usage: 1.5+ MB\n"
     ]
    }
   ],
   "source": [
    "df.info()"
   ]
  },
  {
   "cell_type": "code",
   "execution_count": 8,
   "id": "df581fd0-3b5e-41c1-a54e-7de28342fb12",
   "metadata": {},
   "outputs": [
    {
     "name": "stdout",
     "output_type": "stream",
     "text": [
      "Top three cuisines:\n",
      "North Indian: 3960\n",
      "Chinese: 2735\n",
      "Fast Food: 1986\n",
      "Mughlai: 995\n",
      "Italian: 764\n"
     ]
    }
   ],
   "source": [
    "import pandas as pd\n",
    "from collections import Counter\n",
    "\n",
    "\n",
    "df = df.dropna(subset=['Cuisines'])\n",
    "df['Cuisines'] = df['Cuisines'].astype(str)  \n",
    "\n",
    "df['Cuisines'] = df['Cuisines'].str.split(', ')\n",
    "\n",
    "all_cuisines = [cuisine for sublist in df['Cuisines'] for cuisine in sublist]\n",
    "\n",
    "cuisine_count = Counter(all_cuisines)\n",
    "\n",
    "top_three_cuisines = cuisine_count.most_common(5)\n",
    "\n",
    "print(\"Top three cuisines:\")\n",
    "for cuisine, count in top_three_cuisines:\n",
    "    print(f\"{cuisine}: {count}\")\n"
   ]
  },
  {
   "cell_type": "markdown",
   "id": "e4206da4-d3f8-4e9d-9ea4-d90a17dac1d0",
   "metadata": {},
   "source": [
    "### Calculate the percentage of restaurants that serve each of the top cuisines."
   ]
  },
  {
   "cell_type": "code",
   "execution_count": 10,
   "id": "44383eb2-a296-4793-8c4b-c6a4849740ff",
   "metadata": {},
   "outputs": [
    {
     "name": "stdout",
     "output_type": "stream",
     "text": [
      "Top Five cuisines and the percentage of restaurants serving them:\n",
      "North Indian: 41.50%\n",
      "Chinese: 28.64%\n",
      "Fast Food: 20.81%\n",
      "Mughlai: 10.42%\n",
      "Italian: 8.01%\n"
     ]
    }
   ],
   "source": [
    "\n",
    "cuisine_percentages = {}\n",
    "\n",
    "total_restaurants = df.shape[0]\n",
    "\n",
    "for cuisine, _ in top_three_cuisines:\n",
    "    num_restaurants_serving = df['Cuisines'].apply(lambda x: cuisine in x).sum()\n",
    "    percentage = (num_restaurants_serving / total_restaurants) * 100\n",
    "    cuisine_percentages[cuisine] = percentage\n",
    "\n",
    "print(\"Top Five cuisines and the percentage of restaurants serving them:\")\n",
    "for cuisine, percentage in cuisine_percentages.items():\n",
    "    print(f\"{cuisine}: {percentage:.2f}%\")"
   ]
  },
  {
   "cell_type": "code",
   "execution_count": null,
   "id": "8bc21626-0a54-4662-b682-66255d1d7f22",
   "metadata": {},
   "outputs": [],
   "source": []
  },
  {
   "cell_type": "markdown",
   "id": "bbf6f952-9893-4ed9-a832-a3b18794e77a",
   "metadata": {},
   "source": [
    "## Task 2 : Task: City Analysis\n"
   ]
  },
  {
   "cell_type": "markdown",
   "id": "0738e212-cc4d-4848-bbd7-f8661dc46470",
   "metadata": {},
   "source": [
    "### Identify the city with the highest number of restaurants in the dataset."
   ]
  },
  {
   "cell_type": "code",
   "execution_count": 13,
   "id": "d6e425bc-e138-4dec-b87d-c25fbff0d9cd",
   "metadata": {},
   "outputs": [
    {
     "name": "stdout",
     "output_type": "stream",
     "text": [
      "The city with the highest number of restaurants is New Delhi with 5473 restaurants.\n"
     ]
    }
   ],
   "source": [
    "city_counts = df['City'].value_counts()\n",
    "\n",
    "city_with_max_restaurants = city_counts.idxmax()\n",
    "max_restaurant_count = city_counts.max()\n",
    "\n",
    "print(f\"The city with the highest number of restaurants is {city_with_max_restaurants} with {max_restaurant_count} restaurants.\")"
   ]
  },
  {
   "cell_type": "markdown",
   "id": "b6c3bc61-bb25-43f0-9cc8-2ffc289631bc",
   "metadata": {},
   "source": [
    "### Calculate the average rating for restaurants in each city.\n"
   ]
  },
  {
   "cell_type": "code",
   "execution_count": 15,
   "id": "027e6305-0ec5-4450-adc5-d4c03e4ba397",
   "metadata": {},
   "outputs": [
    {
     "name": "stdout",
     "output_type": "stream",
     "text": [
      "Average rating for restaurants in each city:\n",
      "City\n",
      "Abu Dhabi          4.30\n",
      "Agra               3.96\n",
      "Ahmedabad          4.16\n",
      "Albany             3.55\n",
      "Allahabad          3.40\n",
      "                   ... \n",
      "Weirton            3.90\n",
      "Wellington City    4.25\n",
      "Winchester Bay     3.20\n",
      "Yorkton            3.30\n",
      "��stanbul          4.29\n",
      "Name: Aggregate rating, Length: 140, dtype: float64\n"
     ]
    }
   ],
   "source": [
    "average_ratings = df.groupby('City')['Aggregate rating'].mean()\n",
    "\n",
    "print(\"Average rating for restaurants in each city:\")\n",
    "print(round(average_ratings,2))"
   ]
  },
  {
   "cell_type": "markdown",
   "id": "1eb963bd-cc8e-4ffc-9e10-baddb41c78ff",
   "metadata": {},
   "source": [
    "### Determine the city with the highest average rating."
   ]
  },
  {
   "cell_type": "code",
   "execution_count": 17,
   "id": "ba57d910-7519-459f-be9f-9b1726841cec",
   "metadata": {},
   "outputs": [
    {
     "name": "stdout",
     "output_type": "stream",
     "text": [
      "The city with the highest average rating is Inner City with an average rating of 4.90.\n"
     ]
    }
   ],
   "source": [
    "average_ratings = df.groupby('City')['Aggregate rating'].mean()\n",
    "\n",
    "city_with_highest_avg_rating = average_ratings.idxmax()\n",
    "highest_avg_rating = average_ratings.max()\n",
    "\n",
    "print(f\"The city with the highest average rating is {city_with_highest_avg_rating} with an average rating of {highest_avg_rating:.2f}.\")"
   ]
  },
  {
   "cell_type": "markdown",
   "id": "985bfc7f-0826-43e2-9c19-4b4412421259",
   "metadata": {},
   "source": [
    "## Task 3 : Price Range Distribution"
   ]
  },
  {
   "cell_type": "markdown",
   "id": "ea5587cc-5803-40c6-b0a3-eff4db25ec4c",
   "metadata": {},
   "source": [
    "### Create a histogram or bar chart to visualize the distribution of price ranges among the restaurants."
   ]
  },
  {
   "cell_type": "code",
   "execution_count": 20,
   "id": "3864df09-d175-4f13-acea-53294b895d69",
   "metadata": {},
   "outputs": [
    {
     "data": {
      "image/png": "[encoded data removed]",
      "text/plain": [
       "<Figure size 800x600 with 1 Axes>"
      ]
     },
     "metadata": {},
     "output_type": "display_data"
    }
   ],
   "source": [
    "import pandas as pd\n",
    "import matplotlib.pyplot as plt\n",
    "\n",
    "price_range_counts = df['Price range'].value_counts()\n",
    "\n",
    "plt.figure(figsize=(8, 6))\n",
    "price_range_counts.plot(kind='bar', color='skyblue')\n",
    "plt.title('Distribution of Price Ranges Among Restaurants')\n",
    "plt.xlabel('Price Range')\n",
    "plt.ylabel('Number of Restaurants')\n",
    "plt.xticks(rotation=0)\n",
    "plt.show()\n"
   ]
  },
  {
   "cell_type": "markdown",
   "id": "6497face-6aa6-4b8a-ba78-4064255c8e1c",
   "metadata": {},
   "source": [
    "### Calculate the percentage of restaurants in each price range category."
   ]
  },
  {
   "cell_type": "code",
   "execution_count": 22,
   "id": "8be67ffb-7e53-49ad-990f-35d31cc94e29",
   "metadata": {},
   "outputs": [
    {
     "name": "stdout",
     "output_type": "stream",
     "text": [
      "Percentage of restaurants in each price range category:\n",
      "Price range\n",
      "1    46.51\n",
      "2    32.62\n",
      "3    14.72\n",
      "4     6.14\n",
      "Name: count, dtype: float64\n"
     ]
    }
   ],
   "source": [
    "price_range_counts = df['Price range'].value_counts()\n",
    "\n",
    "total_restaurants = len(df)\n",
    "\n",
    "price_range_percentages = (price_range_counts / total_restaurants) * 100\n",
    "\n",
    "print(\"Percentage of restaurants in each price range category:\")\n",
    "print(round(price_range_percentages,2))"
   ]
  },
  {
   "cell_type": "markdown",
   "id": "7c3b1930-638b-488c-adf6-b2ee9419b4e4",
   "metadata": {},
   "source": [
    "## Task 4 : Online Delivery"
   ]
  },
  {
   "cell_type": "markdown",
   "id": "22470ef5-f910-4e11-a552-67861aa7d2d1",
   "metadata": {},
   "source": [
    "### Determine the percentage of restaurants that offer online delivery."
   ]
  },
  {
   "cell_type": "code",
   "execution_count": 25,
   "id": "601c033a-7eb3-431c-88c0-f9e98f818186",
   "metadata": {},
   "outputs": [
    {
     "name": "stdout",
     "output_type": "stream",
     "text": [
      "The percentage of restaurants that offer online delivery is 25.69%.\n"
     ]
    }
   ],
   "source": [
    "df['Has Online delivery'] = df['Has Online delivery'].map({'Yes': True, 'No': False})\n",
    "\n",
    "online_delivery_count = df['Has Online delivery'].sum()\n",
    "\n",
    "total_restaurants = len(df)\n",
    "\n",
    "percentage_online_delivery = (online_delivery_count / total_restaurants) * 100\n",
    "\n",
    "print(f\"The percentage of restaurants that offer online delivery is {percentage_online_delivery:.2f}%.\")"
   ]
  },
  {
   "cell_type": "markdown",
   "id": "dbc409ff-c6ca-4272-9ee2-0798b12d4180",
   "metadata": {},
   "source": [
    "### compare the average ratings of restaurants with and without online delivery.\n"
   ]
  },
  {
   "cell_type": "code",
   "execution_count": 27,
   "id": "fb04c692-22a1-4736-80ff-6520b0fb15d5",
   "metadata": {},
   "outputs": [
    {
     "name": "stdout",
     "output_type": "stream",
     "text": [
      "Average rating for restaurants with online delivery: 3.25\n",
      "Average rating for restaurants without online delivery: 2.46\n"
     ]
    }
   ],
   "source": [
    "average_rating_with_delivery = df[df['Has Online delivery'] == True]['Aggregate rating'].mean()\n",
    "\n",
    "average_rating_without_delivery = df[df['Has Online delivery'] == False]['Aggregate rating'].mean()\n",
    "\n",
    "print(f\"Average rating for restaurants with online delivery: {average_rating_with_delivery:.2f}\")\n",
    "print(f\"Average rating for restaurants without online delivery: {average_rating_without_delivery:.2f}\")"
   ]
  },
  {
   "cell_type": "markdown",
   "id": "8a0932f4-591d-445b-b56e-3ca2de5d4217",
   "metadata": {},
   "source": [
    "####\n",
    "### GOWTHAM G.S PATIL\n",
    "### SHRIDEVI INSTITUTE OF ENGINEERING AND TECHNOLOGY (SIET), TUMKURU\n",
    "### COMPUTER SCIENCE ENGINEERING"
   ]
  },
  {
   "cell_type": "code",
   "execution_count": null,
   "id": "6a2a7690-24d3-4f0a-954a-a5fe86a3454d",
   "metadata": {},
   "outputs": [],
   "source": []
  }
 ],
 "metadata": {
  "kernelspec": {
   "display_name": "myenv",
   "language": "python",
   "name": "myenv"
  },
  "language_info": {
   "codemirror_mode": {
    "name": "ipython",
    "version": 3
   },
   "file_extension": ".py",
   "mimetype": "text/x-python",
   "name": "python",
   "nbconvert_exporter": "python",
   "pygments_lexer": "ipython3",
   "version": "3.10.18"
  }
 },
 "nbformat": 4,
 "nbformat_minor": 5
}
